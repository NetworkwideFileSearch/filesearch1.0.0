{
 "cells": [
  {
   "cell_type": "code",
   "execution_count": 4,
   "metadata": {},
   "outputs": [],
   "source": [
    "from search import Filemanager"
   ]
  },
  {
   "cell_type": "code",
   "execution_count": 5,
   "metadata": {},
   "outputs": [
    {
     "name": "stdout",
     "output_type": "stream",
     "text": [
      "index creation successful ,,, :)\n"
     ]
    }
   ],
   "source": [
    "path = input(\"enter your master folder path\")\n",
    "obj = Filemanager(path)\n",
    "obj.process()\n",
    "print(\"index creation successful ,,, :)\")"
   ]
  },
  {
   "cell_type": "code",
   "execution_count": 8,
   "metadata": {},
   "outputs": [
    {
     "data": {
      "text/html": [
       "<div>\n",
       "<style scoped>\n",
       "    .dataframe tbody tr th:only-of-type {\n",
       "        vertical-align: middle;\n",
       "    }\n",
       "\n",
       "    .dataframe tbody tr th {\n",
       "        vertical-align: top;\n",
       "    }\n",
       "\n",
       "    .dataframe thead th {\n",
       "        text-align: right;\n",
       "    }\n",
       "</style>\n",
       "<table border=\"1\" class=\"dataframe\">\n",
       "  <thead>\n",
       "    <tr style=\"text-align: right;\">\n",
       "      <th></th>\n",
       "      <th>file_name</th>\n",
       "      <th>file_path</th>\n",
       "      <th>Access_time</th>\n",
       "      <th>Modified_time</th>\n",
       "      <th>Change_time</th>\n",
       "      <th>Size</th>\n",
       "      <th>type</th>\n",
       "    </tr>\n",
       "  </thead>\n",
       "  <tbody>\n",
       "    <tr>\n",
       "      <th>1284</th>\n",
       "      <td>info.py</td>\n",
       "      <td>d://open_Source_Study/spacy/spaCy/spacy/cli/in...</td>\n",
       "      <td>Tue Oct 11 23:52:43 2022</td>\n",
       "      <td>Tue Oct 11 23:45:03 2022</td>\n",
       "      <td>Tue Oct 11 23:45:03 2022</td>\n",
       "      <td>6594</td>\n",
       "      <td>py</td>\n",
       "    </tr>\n",
       "    <tr>\n",
       "      <th>2508</th>\n",
       "      <td>infobox.js</td>\n",
       "      <td>d://open_Source_Study/spacy/spaCy/website/src/...</td>\n",
       "      <td>Tue Oct 11 23:48:10 2022</td>\n",
       "      <td>Tue Oct 11 23:45:03 2022</td>\n",
       "      <td>Tue Oct 11 23:45:03 2022</td>\n",
       "      <td>1715</td>\n",
       "      <td>js</td>\n",
       "    </tr>\n",
       "    <tr>\n",
       "      <th>2555</th>\n",
       "      <td>info.svg</td>\n",
       "      <td>d://open_Source_Study/spacy/spaCy/website/src/...</td>\n",
       "      <td>Tue Oct 11 23:48:10 2022</td>\n",
       "      <td>Tue Oct 11 23:45:03 2022</td>\n",
       "      <td>Tue Oct 11 23:45:03 2022</td>\n",
       "      <td>303</td>\n",
       "      <td>svg</td>\n",
       "    </tr>\n",
       "    <tr>\n",
       "      <th>2613</th>\n",
       "      <td>infobox.module.sass</td>\n",
       "      <td>d://open_Source_Study/spacy/spaCy/website/src/...</td>\n",
       "      <td>Tue Oct 11 23:48:10 2022</td>\n",
       "      <td>Tue Oct 11 23:45:03 2022</td>\n",
       "      <td>Tue Oct 11 23:45:03 2022</td>\n",
       "      <td>1576</td>\n",
       "      <td>sass</td>\n",
       "    </tr>\n",
       "    <tr>\n",
       "      <th>2730</th>\n",
       "      <td>System Volume Information</td>\n",
       "      <td>d://System Volume Information</td>\n",
       "      <td>Sat Oct 15 17:26:48 2022</td>\n",
       "      <td>Mon Sep  5 12:07:28 2022</td>\n",
       "      <td>Fri Aug 16 20:15:08 2019</td>\n",
       "      <td>0</td>\n",
       "      <td>folder</td>\n",
       "    </tr>\n",
       "  </tbody>\n",
       "</table>\n",
       "</div>"
      ],
      "text/plain": [
       "                      file_name  \\\n",
       "1284                    info.py   \n",
       "2508                 infobox.js   \n",
       "2555                   info.svg   \n",
       "2613        infobox.module.sass   \n",
       "2730  System Volume Information   \n",
       "\n",
       "                                              file_path  \\\n",
       "1284  d://open_Source_Study/spacy/spaCy/spacy/cli/in...   \n",
       "2508  d://open_Source_Study/spacy/spaCy/website/src/...   \n",
       "2555  d://open_Source_Study/spacy/spaCy/website/src/...   \n",
       "2613  d://open_Source_Study/spacy/spaCy/website/src/...   \n",
       "2730                      d://System Volume Information   \n",
       "\n",
       "                   Access_time             Modified_time  \\\n",
       "1284  Tue Oct 11 23:52:43 2022  Tue Oct 11 23:45:03 2022   \n",
       "2508  Tue Oct 11 23:48:10 2022  Tue Oct 11 23:45:03 2022   \n",
       "2555  Tue Oct 11 23:48:10 2022  Tue Oct 11 23:45:03 2022   \n",
       "2613  Tue Oct 11 23:48:10 2022  Tue Oct 11 23:45:03 2022   \n",
       "2730  Sat Oct 15 17:26:48 2022  Mon Sep  5 12:07:28 2022   \n",
       "\n",
       "                   Change_time  Size    type  \n",
       "1284  Tue Oct 11 23:45:03 2022  6594      py  \n",
       "2508  Tue Oct 11 23:45:03 2022  1715      js  \n",
       "2555  Tue Oct 11 23:45:03 2022   303     svg  \n",
       "2613  Tue Oct 11 23:45:03 2022  1576    sass  \n",
       "2730  Fri Aug 16 20:15:08 2019     0  folder  "
      ]
     },
     "execution_count": 8,
     "metadata": {},
     "output_type": "execute_result"
    }
   ],
   "source": [
    "query = input(\"\\nenter your query for searching\")\n",
    "obj.search_query(query)"
   ]
  },
  {
   "cell_type": "code",
   "execution_count": 5,
   "metadata": {},
   "outputs": [
    {
     "name": "stdout",
     "output_type": "stream",
     "text": [
      "{'criminal': 1, 'justice': 1, 'episode': 1, '6': 1, '720p': 1, 'moviebaba': 1, 'mkv': 2}\n"
     ]
    }
   ],
   "source": [
    "from inverted_index import Inverted_Index\n",
    "\n",
    "self = Inverted_Index()\n",
    "# self.inverting_file(,doc_id=10)\n",
    "filename=\"Criminal.Justice.Episode.6.720p.moviebaba.mkv.MKV\"\n",
    "token_lis = self.tokenize_file_name(filename)\n",
    "print(token_lis)\n",
    "self.add_file_to_token_dict(token_lis,doc_id = 1)\n",
    "\n",
    "# print(obj.token_dict)"
   ]
  },
  {
   "cell_type": "code",
   "execution_count": null,
   "metadata": {},
   "outputs": [],
   "source": []
  },
  {
   "cell_type": "code",
   "execution_count": 5,
   "metadata": {},
   "outputs": [
    {
     "data": {
      "text/plain": [
       "{'a': [0],\n",
       " 'distributed': [0],\n",
       " 'search': [0],\n",
       " 'service': [0],\n",
       " 'for': [0],\n",
       " 'peertopeer': [0],\n",
       " 'file': [0],\n",
       " 'sharing': [0],\n",
       " 'in': [0],\n",
       " 'mobi': [0],\n",
       " 'pdf': [0, 3, 4],\n",
       " 'allocated': [1, 2],\n",
       " 'guidelist': [1, 2],\n",
       " '': [1, 4],\n",
       " '1': [1],\n",
       " 'xlsx': [1, 2],\n",
       " 'associate': [3],\n",
       " 'consultant': [3],\n",
       " 'b': [4],\n",
       " 'e': [4],\n",
       " '2019': [4],\n",
       " 'pattern': [4],\n",
       " 'insem': [4],\n",
       " 'exam': [4],\n",
       " 'timetable': [4],\n",
       " 'oct': [4],\n",
       " '2022': [4],\n",
       " '16092022': [4]}"
      ]
     },
     "execution_count": 5,
     "metadata": {},
     "output_type": "execute_result"
    }
   ],
   "source": [
    "\n",
    "\n",
    "inv_ind = Inverted_Index(token_dict={})\n",
    "for i in df.iloc[:5,:].index:\n",
    "    inv_ind.inverting_file( df.loc[i,\"file_name\"], df.loc[i,\"id\"] )\n",
    "    \n",
    "inv_ind.token_dict\n"
   ]
  },
  {
   "cell_type": "code",
   "execution_count": 12,
   "metadata": {},
   "outputs": [],
   "source": [
    "import pandas as pd\n",
    "dummy_db = pd.DataFrame(columns = [\"keywords\",\"doc_list\"])"
   ]
  },
  {
   "cell_type": "code",
   "execution_count": 1,
   "metadata": {},
   "outputs": [
    {
     "ename": "TypeError",
     "evalue": "catching classes that do not inherit from BaseException is not allowed",
     "output_type": "error",
     "traceback": [
      "\u001b[1;31m---------------------------------------------------------------------------\u001b[0m",
      "\u001b[1;31mTypeError\u001b[0m                                 Traceback (most recent call last)",
      "File \u001b[1;32md:\\filesearch1.0.0\\basic_search\\search.py:77\u001b[0m, in \u001b[0;36mFilemanager.get_folder_metadata\u001b[1;34m(self, folderpath, foldername)\u001b[0m\n\u001b[0;32m     76\u001b[0m     \u001b[39mself\u001b[39m\u001b[39m.\u001b[39mlis\u001b[39m.\u001b[39mappend(metadata)\n\u001b[1;32m---> 77\u001b[0m     mtd\u001b[39m.\u001b[39;49minsert_one(metadata)\n\u001b[0;32m     78\u001b[0m \u001b[39mexcept\u001b[39;00m error:\n",
      "\u001b[1;31mTypeError\u001b[0m: engine_db.insert_one() missing 1 required positional argument: 'metadata'",
      "\nDuring handling of the above exception, another exception occurred:\n",
      "\u001b[1;31mTypeError\u001b[0m                                 Traceback (most recent call last)",
      "Cell \u001b[1;32mIn [1], line 4\u001b[0m\n\u001b[0;32m      1\u001b[0m \u001b[39mfrom\u001b[39;00m \u001b[39msearch\u001b[39;00m \u001b[39mimport\u001b[39;00m Filemanager \u001b[39mas\u001b[39;00m fm\n\u001b[0;32m      3\u001b[0m obj \u001b[39m=\u001b[39m fm()\n\u001b[1;32m----> 4\u001b[0m obj\u001b[39m.\u001b[39mprocess()\n",
      "File \u001b[1;32md:\\filesearch1.0.0\\basic_search\\search.py:109\u001b[0m, in \u001b[0;36mFilemanager.process\u001b[1;34m(self)\u001b[0m\n\u001b[0;32m    108\u001b[0m \u001b[39mdef\u001b[39;00m \u001b[39mprocess\u001b[39m(\u001b[39mself\u001b[39m):  \n\u001b[1;32m--> 109\u001b[0m     \u001b[39mself\u001b[39;49m\u001b[39m.\u001b[39;49mDFS_method(\u001b[39mself\u001b[39;49m\u001b[39m.\u001b[39;49mpath)\n\u001b[0;32m    110\u001b[0m     \u001b[39mself\u001b[39m\u001b[39m.\u001b[39mdb \u001b[39m=\u001b[39m \u001b[39mself\u001b[39m\u001b[39m.\u001b[39mget_df()\n\u001b[0;32m    111\u001b[0m     \u001b[39mself\u001b[39m\u001b[39m.\u001b[39mdb[\u001b[39m'\u001b[39m\u001b[39mfile_name_lower\u001b[39m\u001b[39m'\u001b[39m] \u001b[39m=\u001b[39m \u001b[39mself\u001b[39m\u001b[39m.\u001b[39mdb[\u001b[39m'\u001b[39m\u001b[39mfile_name\u001b[39m\u001b[39m'\u001b[39m]\u001b[39m.\u001b[39mstr\u001b[39m.\u001b[39mlower()\n",
      "File \u001b[1;32md:\\filesearch1.0.0\\basic_search\\search.py:41\u001b[0m, in \u001b[0;36mFilemanager.DFS_method\u001b[1;34m(self, path)\u001b[0m\n\u001b[0;32m     37\u001b[0m \u001b[39m# if  not self.is_file_accessable(fpath): ## check if file is accessible to mode like read , write\u001b[39;00m\n\u001b[0;32m     38\u001b[0m \u001b[39m#     continue\u001b[39;00m\n\u001b[0;32m     40\u001b[0m \u001b[39mif\u001b[39;00m os\u001b[39m.\u001b[39mpath\u001b[39m.\u001b[39misdir(fpath):  \u001b[39m## check if path is folder\u001b[39;00m\n\u001b[1;32m---> 41\u001b[0m     \u001b[39mself\u001b[39;49m\u001b[39m.\u001b[39;49mget_folder_metadata(fpath,foldername\u001b[39m=\u001b[39;49mfile)\n\u001b[0;32m     42\u001b[0m     \u001b[39mself\u001b[39m\u001b[39m.\u001b[39mDFS_method(fpath)\n\u001b[0;32m     44\u001b[0m \u001b[39melif\u001b[39;00m os\u001b[39m.\u001b[39mpath\u001b[39m.\u001b[39misfile(fpath): \u001b[39m## check if path is file \u001b[39;00m\n",
      "File \u001b[1;32md:\\filesearch1.0.0\\basic_search\\search.py:78\u001b[0m, in \u001b[0;36mFilemanager.get_folder_metadata\u001b[1;34m(self, folderpath, foldername)\u001b[0m\n\u001b[0;32m     76\u001b[0m     \u001b[39mself\u001b[39m\u001b[39m.\u001b[39mlis\u001b[39m.\u001b[39mappend(metadata)\n\u001b[0;32m     77\u001b[0m     mtd\u001b[39m.\u001b[39minsert_one(metadata)\n\u001b[1;32m---> 78\u001b[0m \u001b[39mexcept\u001b[39;00m error:\n\u001b[0;32m     79\u001b[0m     \u001b[39mprint\u001b[39m(error)\n\u001b[0;32m     80\u001b[0m     \u001b[39mpass\u001b[39;00m\n",
      "\u001b[1;31mTypeError\u001b[0m: catching classes that do not inherit from BaseException is not allowed"
     ]
    }
   ],
   "source": [
    "from search import Filemanager as fm\n",
    " \n",
    "obj = fm()\n",
    "obj.process()\n"
   ]
  },
  {
   "cell_type": "code",
   "execution_count": null,
   "metadata": {},
   "outputs": [],
   "source": []
  }
 ],
 "metadata": {
  "kernelspec": {
   "display_name": "Python 3.10.7 64-bit",
   "language": "python",
   "name": "python3"
  },
  "language_info": {
   "codemirror_mode": {
    "name": "ipython",
    "version": 3
   },
   "file_extension": ".py",
   "mimetype": "text/x-python",
   "name": "python",
   "nbconvert_exporter": "python",
   "pygments_lexer": "ipython3",
   "version": "3.10.7"
  },
  "orig_nbformat": 4,
  "vscode": {
   "interpreter": {
    "hash": "369f2c481f4da34e4445cda3fffd2e751bd1c4d706f27375911949ba6bb62e1c"
   }
  }
 },
 "nbformat": 4,
 "nbformat_minor": 2
}
