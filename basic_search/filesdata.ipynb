{
 "cells": [
  {
   "cell_type": "code",
   "execution_count": 4,
   "metadata": {},
   "outputs": [
    {
     "ename": "PermissionError",
     "evalue": "[WinError 5] Access is denied: 'c://$Recycle.Bin/S-1-5-18'",
     "output_type": "error",
     "traceback": [
      "\u001b[1;31m---------------------------------------------------------------------------\u001b[0m",
      "\u001b[1;31mPermissionError\u001b[0m                           Traceback (most recent call last)",
      "Cell \u001b[1;32mIn [4], line 4\u001b[0m\n\u001b[0;32m      1\u001b[0m \u001b[39mfrom\u001b[39;00m \u001b[39msample\u001b[39;00m \u001b[39mimport\u001b[39;00m Filemanager\n\u001b[0;32m      3\u001b[0m obj \u001b[39m=\u001b[39m Filemanager(path \u001b[39m=\u001b[39m \u001b[39m\"\u001b[39m\u001b[39mc:/\u001b[39m\u001b[39m\"\u001b[39m)\n\u001b[1;32m----> 4\u001b[0m obj\u001b[39m.\u001b[39mDFS_method(obj\u001b[39m.\u001b[39mpath)\n\u001b[0;32m      5\u001b[0m df \u001b[39m=\u001b[39m obj\u001b[39m.\u001b[39mget_df()\n",
      "File \u001b[1;32mc:\\Users\\HP\\Desktop\\beproject\\sample.py:30\u001b[0m, in \u001b[0;36mFilemanager.DFS_method\u001b[1;34m(self, path)\u001b[0m\n\u001b[0;32m     26\u001b[0m \u001b[39m# if  not self.is_file_accessable(fpath): ## check if file is accessible to mode like read , write\u001b[39;00m\n\u001b[0;32m     27\u001b[0m \u001b[39m#     continue\u001b[39;00m\n\u001b[0;32m     29\u001b[0m \u001b[39mif\u001b[39;00m os\u001b[39m.\u001b[39mpath\u001b[39m.\u001b[39misdir(fpath):  \u001b[39m## check if path is folder\u001b[39;00m\n\u001b[1;32m---> 30\u001b[0m     \u001b[39mself\u001b[39;49m\u001b[39m.\u001b[39;49mDFS_method(fpath)\n\u001b[0;32m     32\u001b[0m \u001b[39melif\u001b[39;00m os\u001b[39m.\u001b[39mpath\u001b[39m.\u001b[39misfile(fpath): \u001b[39m## check if path is file \u001b[39;00m\n\u001b[0;32m     33\u001b[0m     \u001b[39mself\u001b[39m\u001b[39m.\u001b[39mget_file_metadata(fpath,filename\u001b[39m=\u001b[39mfile)\n",
      "File \u001b[1;32mc:\\Users\\HP\\Desktop\\beproject\\sample.py:30\u001b[0m, in \u001b[0;36mFilemanager.DFS_method\u001b[1;34m(self, path)\u001b[0m\n\u001b[0;32m     26\u001b[0m \u001b[39m# if  not self.is_file_accessable(fpath): ## check if file is accessible to mode like read , write\u001b[39;00m\n\u001b[0;32m     27\u001b[0m \u001b[39m#     continue\u001b[39;00m\n\u001b[0;32m     29\u001b[0m \u001b[39mif\u001b[39;00m os\u001b[39m.\u001b[39mpath\u001b[39m.\u001b[39misdir(fpath):  \u001b[39m## check if path is folder\u001b[39;00m\n\u001b[1;32m---> 30\u001b[0m     \u001b[39mself\u001b[39;49m\u001b[39m.\u001b[39;49mDFS_method(fpath)\n\u001b[0;32m     32\u001b[0m \u001b[39melif\u001b[39;00m os\u001b[39m.\u001b[39mpath\u001b[39m.\u001b[39misfile(fpath): \u001b[39m## check if path is file \u001b[39;00m\n\u001b[0;32m     33\u001b[0m     \u001b[39mself\u001b[39m\u001b[39m.\u001b[39mget_file_metadata(fpath,filename\u001b[39m=\u001b[39mfile)\n",
      "File \u001b[1;32mc:\\Users\\HP\\Desktop\\beproject\\sample.py:18\u001b[0m, in \u001b[0;36mFilemanager.DFS_method\u001b[1;34m(self, path)\u001b[0m\n\u001b[0;32m     16\u001b[0m \u001b[39mdef\u001b[39;00m \u001b[39mDFS_method\u001b[39m(\u001b[39mself\u001b[39m,path):  \u001b[39m## use DFS recursion as folder file structure is basically a tree structure\u001b[39;00m\n\u001b[1;32m---> 18\u001b[0m     lis_of_dirs \u001b[39m=\u001b[39m os\u001b[39m.\u001b[39;49mlistdir(path)  \u001b[39m## get list of files in directory\u001b[39;00m\n\u001b[0;32m     20\u001b[0m     \u001b[39mfor\u001b[39;00m file \u001b[39min\u001b[39;00m lis_of_dirs:\n\u001b[0;32m     21\u001b[0m         \u001b[39mif\u001b[39;00m file \u001b[39min\u001b[39;00m \u001b[39mself\u001b[39m\u001b[39m.\u001b[39mignore_file_dict: \u001b[39m# check if file type is to be ignored or not\u001b[39;00m\n",
      "\u001b[1;31mPermissionError\u001b[0m: [WinError 5] Access is denied: 'c://$Recycle.Bin/S-1-5-18'"
     ]
    }
   ],
   "source": [
    " \n",
    "from sample import Filemanager\n",
    "\n",
    "obj = Filemanager(path = \"c:/\")\n",
    "obj.DFS_method(obj.path)\n",
    "df = obj.get_df()"
   ]
  },
  {
   "cell_type": "code",
   "execution_count": 2,
   "metadata": {},
   "outputs": [
    {
     "ename": "NameError",
     "evalue": "name 'df' is not defined",
     "output_type": "error",
     "traceback": [
      "\u001b[1;31m---------------------------------------------------------------------------\u001b[0m",
      "\u001b[1;31mNameError\u001b[0m                                 Traceback (most recent call last)",
      "Cell \u001b[1;32mIn [2], line 1\u001b[0m\n\u001b[1;32m----> 1\u001b[0m df\u001b[39m.\u001b[39mhead()\n",
      "\u001b[1;31mNameError\u001b[0m: name 'df' is not defined"
     ]
    }
   ],
   "source": [
    "df.head()"
   ]
  },
  {
   "cell_type": "code",
   "execution_count": 6,
   "metadata": {},
   "outputs": [
    {
     "data": {
      "text/html": [
       "<div>\n",
       "<style scoped>\n",
       "    .dataframe tbody tr th:only-of-type {\n",
       "        vertical-align: middle;\n",
       "    }\n",
       "\n",
       "    .dataframe tbody tr th {\n",
       "        vertical-align: top;\n",
       "    }\n",
       "\n",
       "    .dataframe thead th {\n",
       "        text-align: right;\n",
       "    }\n",
       "</style>\n",
       "<table border=\"1\" class=\"dataframe\">\n",
       "  <thead>\n",
       "    <tr style=\"text-align: right;\">\n",
       "      <th></th>\n",
       "      <th>file_name</th>\n",
       "      <th>file_path</th>\n",
       "      <th>Access_time</th>\n",
       "      <th>Modified_time</th>\n",
       "      <th>Change_time</th>\n",
       "      <th>Size</th>\n",
       "      <th>type</th>\n",
       "    </tr>\n",
       "  </thead>\n",
       "  <tbody>\n",
       "    <tr>\n",
       "      <th>0</th>\n",
       "      <td>DumpStack</td>\n",
       "      <td>c://DumpStack.log</td>\n",
       "      <td>Mon Sep 26 09:48:18 2022</td>\n",
       "      <td>Sun Sep 25 21:22:41 2022</td>\n",
       "      <td>Wed Sep  7 18:29:26 2022</td>\n",
       "      <td>8192</td>\n",
       "      <td>log</td>\n",
       "    </tr>\n",
       "  </tbody>\n",
       "</table>\n",
       "</div>"
      ],
      "text/plain": [
       "   file_name          file_path               Access_time  \\\n",
       "0  DumpStack  c://DumpStack.log  Mon Sep 26 09:48:18 2022   \n",
       "\n",
       "              Modified_time               Change_time  Size type  \n",
       "0  Sun Sep 25 21:22:41 2022  Wed Sep  7 18:29:26 2022  8192  log  "
      ]
     },
     "execution_count": 6,
     "metadata": {},
     "output_type": "execute_result"
    }
   ],
   "source": [
    "df.sort_values(by=['Access_time'], ascending=False)"
   ]
  },
  {
   "cell_type": "code",
   "execution_count": 10,
   "metadata": {},
   "outputs": [
    {
     "data": {
      "text/plain": [
       "['!qhlogs.doc',\n",
       " '$RECYCLE.BIN',\n",
       " '.vscode',\n",
       " 'bcdbackup.LOG',\n",
       " 'bcdbackup.LOG1',\n",
       " 'bcdbackup.LOG2',\n",
       " 'DumpStack.log.tmp',\n",
       " 'fast_Api',\n",
       " 'general',\n",
       " 'GitPython-main',\n",
       " 'hello.py',\n",
       " 'java_kunal',\n",
       " 'open_Source_Study',\n",
       " 'pagefile.sys',\n",
       " 'Recovery',\n",
       " 'sample.cpp',\n",
       " 'sample.ipynb',\n",
       " 'sample.js',\n",
       " 'social_commerce_bot',\n",
       " 'System Volume Information']"
      ]
     },
     "execution_count": 10,
     "metadata": {},
     "output_type": "execute_result"
    }
   ],
   "source": [
    "import os\n",
    "\n",
    "path = \"d:/\"\n",
    "os.listdir(path)"
   ]
  },
  {
   "cell_type": "code",
   "execution_count": null,
   "metadata": {},
   "outputs": [],
   "source": []
  }
 ],
 "metadata": {
  "kernelspec": {
   "display_name": "Python 3.10.7 64-bit",
   "language": "python",
   "name": "python3"
  },
  "language_info": {
   "codemirror_mode": {
    "name": "ipython",
    "version": 3
   },
   "file_extension": ".py",
   "mimetype": "text/x-python",
   "name": "python",
   "nbconvert_exporter": "python",
   "pygments_lexer": "ipython3",
   "version": "3.10.7"
  },
  "orig_nbformat": 4,
  "vscode": {
   "interpreter": {
    "hash": "369f2c481f4da34e4445cda3fffd2e751bd1c4d706f27375911949ba6bb62e1c"
   }
  }
 },
 "nbformat": 4,
 "nbformat_minor": 2
}
