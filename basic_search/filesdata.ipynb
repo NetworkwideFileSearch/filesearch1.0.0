{
 "cells": [
  {
   "cell_type": "code",
   "execution_count": 4,
   "metadata": {},
   "outputs": [],
   "source": [
    "from search import Filemanager"
   ]
  },
  {
   "cell_type": "code",
   "execution_count": 5,
   "metadata": {},
   "outputs": [
    {
     "name": "stdout",
     "output_type": "stream",
     "text": [
      "index creation successful ,,, :)\n"
     ]
    }
   ],
   "source": [
    "path = input(\"enter your master folder path\")\n",
    "obj = Filemanager(path)\n",
    "obj.process()\n",
    "print(\"index creation successful ,,, :)\")"
   ]
  },
  {
   "cell_type": "code",
   "execution_count": 8,
   "metadata": {},
   "outputs": [
    {
     "data": {
      "text/html": [
       "<div>\n",
       "<style scoped>\n",
       "    .dataframe tbody tr th:only-of-type {\n",
       "        vertical-align: middle;\n",
       "    }\n",
       "\n",
       "    .dataframe tbody tr th {\n",
       "        vertical-align: top;\n",
       "    }\n",
       "\n",
       "    .dataframe thead th {\n",
       "        text-align: right;\n",
       "    }\n",
       "</style>\n",
       "<table border=\"1\" class=\"dataframe\">\n",
       "  <thead>\n",
       "    <tr style=\"text-align: right;\">\n",
       "      <th></th>\n",
       "      <th>file_name</th>\n",
       "      <th>file_path</th>\n",
       "      <th>Access_time</th>\n",
       "      <th>Modified_time</th>\n",
       "      <th>Change_time</th>\n",
       "      <th>Size</th>\n",
       "      <th>type</th>\n",
       "    </tr>\n",
       "  </thead>\n",
       "  <tbody>\n",
       "    <tr>\n",
       "      <th>1284</th>\n",
       "      <td>info.py</td>\n",
       "      <td>d://open_Source_Study/spacy/spaCy/spacy/cli/in...</td>\n",
       "      <td>Tue Oct 11 23:52:43 2022</td>\n",
       "      <td>Tue Oct 11 23:45:03 2022</td>\n",
       "      <td>Tue Oct 11 23:45:03 2022</td>\n",
       "      <td>6594</td>\n",
       "      <td>py</td>\n",
       "    </tr>\n",
       "    <tr>\n",
       "      <th>2508</th>\n",
       "      <td>infobox.js</td>\n",
       "      <td>d://open_Source_Study/spacy/spaCy/website/src/...</td>\n",
       "      <td>Tue Oct 11 23:48:10 2022</td>\n",
       "      <td>Tue Oct 11 23:45:03 2022</td>\n",
       "      <td>Tue Oct 11 23:45:03 2022</td>\n",
       "      <td>1715</td>\n",
       "      <td>js</td>\n",
       "    </tr>\n",
       "    <tr>\n",
       "      <th>2555</th>\n",
       "      <td>info.svg</td>\n",
       "      <td>d://open_Source_Study/spacy/spaCy/website/src/...</td>\n",
       "      <td>Tue Oct 11 23:48:10 2022</td>\n",
       "      <td>Tue Oct 11 23:45:03 2022</td>\n",
       "      <td>Tue Oct 11 23:45:03 2022</td>\n",
       "      <td>303</td>\n",
       "      <td>svg</td>\n",
       "    </tr>\n",
       "    <tr>\n",
       "      <th>2613</th>\n",
       "      <td>infobox.module.sass</td>\n",
       "      <td>d://open_Source_Study/spacy/spaCy/website/src/...</td>\n",
       "      <td>Tue Oct 11 23:48:10 2022</td>\n",
       "      <td>Tue Oct 11 23:45:03 2022</td>\n",
       "      <td>Tue Oct 11 23:45:03 2022</td>\n",
       "      <td>1576</td>\n",
       "      <td>sass</td>\n",
       "    </tr>\n",
       "    <tr>\n",
       "      <th>2730</th>\n",
       "      <td>System Volume Information</td>\n",
       "      <td>d://System Volume Information</td>\n",
       "      <td>Sat Oct 15 17:26:48 2022</td>\n",
       "      <td>Mon Sep  5 12:07:28 2022</td>\n",
       "      <td>Fri Aug 16 20:15:08 2019</td>\n",
       "      <td>0</td>\n",
       "      <td>folder</td>\n",
       "    </tr>\n",
       "  </tbody>\n",
       "</table>\n",
       "</div>"
      ],
      "text/plain": [
       "                      file_name  \\\n",
       "1284                    info.py   \n",
       "2508                 infobox.js   \n",
       "2555                   info.svg   \n",
       "2613        infobox.module.sass   \n",
       "2730  System Volume Information   \n",
       "\n",
       "                                              file_path  \\\n",
       "1284  d://open_Source_Study/spacy/spaCy/spacy/cli/in...   \n",
       "2508  d://open_Source_Study/spacy/spaCy/website/src/...   \n",
       "2555  d://open_Source_Study/spacy/spaCy/website/src/...   \n",
       "2613  d://open_Source_Study/spacy/spaCy/website/src/...   \n",
       "2730                      d://System Volume Information   \n",
       "\n",
       "                   Access_time             Modified_time  \\\n",
       "1284  Tue Oct 11 23:52:43 2022  Tue Oct 11 23:45:03 2022   \n",
       "2508  Tue Oct 11 23:48:10 2022  Tue Oct 11 23:45:03 2022   \n",
       "2555  Tue Oct 11 23:48:10 2022  Tue Oct 11 23:45:03 2022   \n",
       "2613  Tue Oct 11 23:48:10 2022  Tue Oct 11 23:45:03 2022   \n",
       "2730  Sat Oct 15 17:26:48 2022  Mon Sep  5 12:07:28 2022   \n",
       "\n",
       "                   Change_time  Size    type  \n",
       "1284  Tue Oct 11 23:45:03 2022  6594      py  \n",
       "2508  Tue Oct 11 23:45:03 2022  1715      js  \n",
       "2555  Tue Oct 11 23:45:03 2022   303     svg  \n",
       "2613  Tue Oct 11 23:45:03 2022  1576    sass  \n",
       "2730  Fri Aug 16 20:15:08 2019     0  folder  "
      ]
     },
     "execution_count": 8,
     "metadata": {},
     "output_type": "execute_result"
    }
   ],
   "source": [
    "query = input(\"\\nenter your query for searching\")\n",
    "obj.search_query(query)"
   ]
  },
  {
   "cell_type": "code",
   "execution_count": null,
   "metadata": {},
   "outputs": [],
   "source": []
  },
  {
   "cell_type": "code",
   "execution_count": null,
   "metadata": {},
   "outputs": [],
   "source": []
  },
  {
   "cell_type": "code",
   "execution_count": 5,
   "metadata": {},
   "outputs": [
    {
     "data": {
      "text/plain": [
       "{'a': [0],\n",
       " 'distributed': [0],\n",
       " 'search': [0],\n",
       " 'service': [0],\n",
       " 'for': [0],\n",
       " 'peertopeer': [0],\n",
       " 'file': [0],\n",
       " 'sharing': [0],\n",
       " 'in': [0],\n",
       " 'mobi': [0],\n",
       " 'pdf': [0, 3, 4],\n",
       " 'allocated': [1, 2],\n",
       " 'guidelist': [1, 2],\n",
       " '': [1, 4],\n",
       " '1': [1],\n",
       " 'xlsx': [1, 2],\n",
       " 'associate': [3],\n",
       " 'consultant': [3],\n",
       " 'b': [4],\n",
       " 'e': [4],\n",
       " '2019': [4],\n",
       " 'pattern': [4],\n",
       " 'insem': [4],\n",
       " 'exam': [4],\n",
       " 'timetable': [4],\n",
       " 'oct': [4],\n",
       " '2022': [4],\n",
       " '16092022': [4]}"
      ]
     },
     "execution_count": 5,
     "metadata": {},
     "output_type": "execute_result"
    }
   ],
   "source": [
    "from inverted_index import Inverted_Index\n",
    "\n",
    "inv_ind = Inverted_Index(token_dict={})\n",
    "for i in df.iloc[:5,:].index:\n",
    "    inv_ind.inverting_file( df.loc[i,\"file_name\"], df.loc[i,\"id\"] )\n",
    "    \n",
    "inv_ind.token_dict\n"
   ]
  },
  {
   "cell_type": "code",
   "execution_count": 12,
   "metadata": {},
   "outputs": [],
   "source": [
    "import pandas as pd\n",
    "dummy_db = pd.DataFrame(columns = [\"keywords\",\"doc_list\"])"
   ]
  }
 ],
 "metadata": {
  "kernelspec": {
   "display_name": "Python 3.10.7 64-bit",
   "language": "python",
   "name": "python3"
  },
  "language_info": {
   "codemirror_mode": {
    "name": "ipython",
    "version": 3
   },
   "file_extension": ".py",
   "mimetype": "text/x-python",
   "name": "python",
   "nbconvert_exporter": "python",
   "pygments_lexer": "ipython3",
   "version": "3.10.7"
  },
  "orig_nbformat": 4,
  "vscode": {
   "interpreter": {
    "hash": "369f2c481f4da34e4445cda3fffd2e751bd1c4d706f27375911949ba6bb62e1c"
   }
  }
 },
 "nbformat": 4,
 "nbformat_minor": 2
}
